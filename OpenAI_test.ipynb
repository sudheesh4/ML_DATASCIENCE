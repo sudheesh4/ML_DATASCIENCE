{
 "cells": [
  {
   "cell_type": "code",
   "execution_count": 3,
   "id": "c82e27e2",
   "metadata": {},
   "outputs": [],
   "source": [
    "import os\n",
    "import openai\n",
    "import time"
   ]
  },
  {
   "cell_type": "code",
   "execution_count": 4,
   "id": "8382821e",
   "metadata": {},
   "outputs": [],
   "source": [
    "\n",
    "openai.api_base = \"http://localhost:1234/v1\" # point to the local server\n",
    "openai.api_key = \"\" # no need for an API key\n"
   ]
  },
  {
   "cell_type": "code",
   "execution_count": 5,
   "id": "9999ae1a",
   "metadata": {},
   "outputs": [],
   "source": [
    "def extractres(response):\n",
    "    Res=''\n",
    "    role=''\n",
    "    en=enumerate(response)\n",
    "    while True:\n",
    "        try:\n",
    "            res=next(en)\n",
    "            try:\n",
    "                role+=res[1]['choices'][0]['delta']['role']\n",
    "            except:\n",
    "                pass\n",
    "            Res=Res+(res[1]['choices'][0][\"delta\"][\"content\"])\n",
    "        except:\n",
    "            break\n",
    "    return {\"role\":\"assistant\",\"content\":Res}\n",
    "\n",
    "def startchat():\n",
    "    print(\"Type ' exit' to leave\")\n",
    "    prompt=input(\"...\")\n",
    "    messages=[{\"role\": \"user\", \"content\": prompt}]\n",
    "    \n",
    "    while True:\n",
    "        response = openai.ChatCompletion.create(\n",
    "            messages=messages,\n",
    "            stream=True,\n",
    "            model=\"gpt-3.5-turbo\",\n",
    "            temperature=1,\n",
    "        )\n",
    "        res=extractres(response)\n",
    "        print(f\"{res['role']} :\")\n",
    "        print(res[\"content\"])\n",
    "        sugg=input(\"...\")\n",
    "        messages += [res]+ [{\"role\": \"user\", \"content\": sugg}]\n",
    "        time.sleep(2)\n",
    "        if sugg=='exit':\n",
    "            break\n",
    "        \n",
    "    return messages\n",
    "    "
   ]
  },
  {
   "cell_type": "code",
   "execution_count": 6,
   "id": "7b827761",
   "metadata": {},
   "outputs": [
    {
     "name": "stdout",
     "output_type": "stream",
     "text": [
      "Type ' exit' to leave\n",
      "...suggest a movie name on ice-cream. \n",
      "assistant :\n",
      "\"Scoop Dreams\"\n",
      "...write a small plot\n",
      "assistant :\n",
      "\"Scoop Dreams\" is a heartwarming comedy-drama that follows the life of Emily, a young and aspiring ice cream enthusiast. Growing up in a small, close-knit community, Emily has always had a deep passion for ice cream and dreams of opening her own ice cream shop.\n",
      "\n",
      "However, her dream faces multiple obstacles. The town already has a popular and established ice cream parlor, owned by the strict and competitive Mr. Jenkins. Emily's homemade ice cream, as delicious as it is, struggles to find a place in the market.\n",
      "\n",
      "Determined not to give up, Emily decides to enter a national ice cream competition with a significant cash prize. She hopes that winning the competition will not only give her the funds to open her own shop but also gain recognition for her unique flavors.\n",
      "\n",
      "As Emily starts experimenting with various flavors and combinations, she begins to discover that ice cream-making is not just about creating delicious desserts but also about connecting with people and understanding their emotions. With the help of her quirky friends and supportive family, she learns to infuse her ice cream with love, compassion, and a touch of magic.\n",
      "\n",
      "Along the way, romantic sparks fly between Emily and Jake, a kind-hearted musician who loves her ice cream just as much as he loves her. Their blossoming relationship adds a sweet and heartfelt touch to the story.\n",
      "\n",
      "As the competition day arrives, Emily faces intense competition from talented ice cream makers across the country. With all her hopes resting on this one event, she must summon the courage to present her unique ice cream flavors and convince the judges that her \"Scoop Dreams\" are worth investing in.\n",
      "\n",
      "Through a series of humorous and heartwarming events, Emily's journey culminates in a gripping finale, where she not only impresses the judges with her innovative flavors but also wins the hearts of the entire community.\n",
      "\n",
      "In the end, \"Scoop Dreams\" becomes more than just a story about ice cream; it becomes an inspiring tale about following our dreams, overcoming obstacles, and the importance of perseverance, friendship, and love.\n",
      "...summarise the plot\n",
      "assistant :\n",
      "\"Scoop Dreams\" is a heartwarming comedy-drama about Emily, a passionate ice cream enthusiast who dreams of opening her own shop. She faces challenges from a competitive ice cream parlor owner in her town. Determined to make her mark, Emily enters a national ice cream competition, where she learns that making ice cream is about connecting with people and infusing love. With the support of her friends and family, including a budding romance with a musician named Jake, Emily creates unique flavors and competes against talented ice cream makers. In the end, Emily impresses the judges and wins the hearts of her community, proving that dreams can come true with determination, friendship, and love.\n",
      "...exit\n"
     ]
    },
    {
     "data": {
      "text/plain": [
       "[{'role': 'user', 'content': 'suggest a movie name on ice-cream. '},\n",
       " {'role': 'assistant', 'content': '\"Scoop Dreams\"'},\n",
       " {'role': 'user', 'content': 'write a small plot'},\n",
       " {'role': 'assistant',\n",
       "  'content': '\"Scoop Dreams\" is a heartwarming comedy-drama that follows the life of Emily, a young and aspiring ice cream enthusiast. Growing up in a small, close-knit community, Emily has always had a deep passion for ice cream and dreams of opening her own ice cream shop.\\n\\nHowever, her dream faces multiple obstacles. The town already has a popular and established ice cream parlor, owned by the strict and competitive Mr. Jenkins. Emily\\'s homemade ice cream, as delicious as it is, struggles to find a place in the market.\\n\\nDetermined not to give up, Emily decides to enter a national ice cream competition with a significant cash prize. She hopes that winning the competition will not only give her the funds to open her own shop but also gain recognition for her unique flavors.\\n\\nAs Emily starts experimenting with various flavors and combinations, she begins to discover that ice cream-making is not just about creating delicious desserts but also about connecting with people and understanding their emotions. With the help of her quirky friends and supportive family, she learns to infuse her ice cream with love, compassion, and a touch of magic.\\n\\nAlong the way, romantic sparks fly between Emily and Jake, a kind-hearted musician who loves her ice cream just as much as he loves her. Their blossoming relationship adds a sweet and heartfelt touch to the story.\\n\\nAs the competition day arrives, Emily faces intense competition from talented ice cream makers across the country. With all her hopes resting on this one event, she must summon the courage to present her unique ice cream flavors and convince the judges that her \"Scoop Dreams\" are worth investing in.\\n\\nThrough a series of humorous and heartwarming events, Emily\\'s journey culminates in a gripping finale, where she not only impresses the judges with her innovative flavors but also wins the hearts of the entire community.\\n\\nIn the end, \"Scoop Dreams\" becomes more than just a story about ice cream; it becomes an inspiring tale about following our dreams, overcoming obstacles, and the importance of perseverance, friendship, and love.'},\n",
       " {'role': 'user', 'content': 'summarise the plot'},\n",
       " {'role': 'assistant',\n",
       "  'content': '\"Scoop Dreams\" is a heartwarming comedy-drama about Emily, a passionate ice cream enthusiast who dreams of opening her own shop. She faces challenges from a competitive ice cream parlor owner in her town. Determined to make her mark, Emily enters a national ice cream competition, where she learns that making ice cream is about connecting with people and infusing love. With the support of her friends and family, including a budding romance with a musician named Jake, Emily creates unique flavors and competes against talented ice cream makers. In the end, Emily impresses the judges and wins the hearts of her community, proving that dreams can come true with determination, friendship, and love.'},\n",
       " {'role': 'user', 'content': 'exit'}]"
      ]
     },
     "execution_count": 6,
     "metadata": {},
     "output_type": "execute_result"
    }
   ],
   "source": [
    "startchat()"
   ]
  },
  {
   "cell_type": "code",
   "execution_count": null,
   "id": "1be3de1e",
   "metadata": {},
   "outputs": [],
   "source": []
  }
 ],
 "metadata": {
  "kernelspec": {
   "display_name": "Python 3 (ipykernel)",
   "language": "python",
   "name": "python3"
  },
  "language_info": {
   "codemirror_mode": {
    "name": "ipython",
    "version": 3
   },
   "file_extension": ".py",
   "mimetype": "text/x-python",
   "name": "python",
   "nbconvert_exporter": "python",
   "pygments_lexer": "ipython3",
   "version": "3.10.9"
  }
 },
 "nbformat": 4,
 "nbformat_minor": 5
}
