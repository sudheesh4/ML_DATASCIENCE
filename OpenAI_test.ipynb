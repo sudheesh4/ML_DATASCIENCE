{
 "cells": [
  {
   "cell_type": "code",
   "execution_count": 3,
   "id": "c82e27e2",
   "metadata": {},
   "outputs": [],
   "source": [
    "import os\n",
    "import openai\n",
    "import time"
   ]
  },
  {
   "cell_type": "code",
   "execution_count": 7,
   "id": "8382821e",
   "metadata": {},
   "outputs": [],
   "source": [
    "\n",
    "openai.api_base = \"http://localhost:1234/v1\" # point to the local server\n",
    "openai.api_key = \"\" # no need for an API key\n"
   ]
  },
  {
   "cell_type": "code",
   "execution_count": 5,
   "id": "9999ae1a",
   "metadata": {},
   "outputs": [],
   "source": [
    "def extractres(response):\n",
    "    Res=''\n",
    "    role=''\n",
    "    en=enumerate(response)\n",
    "    while True:\n",
    "        try:\n",
    "            res=next(en)\n",
    "            try:\n",
    "                role+=res[1]['choices'][0]['delta']['role']\n",
    "            except:\n",
    "                pass\n",
    "            Res=Res+(res[1]['choices'][0][\"delta\"][\"content\"])\n",
    "        except:\n",
    "            break\n",
    "    return {\"role\":\"assistant\",\"content\":Res}\n",
    "\n",
    "def startchat():\n",
    "    print(\"Type ' exit' to leave\")\n",
    "    prompt=input(\"...\")\n",
    "    messages=[{\"role\": \"user\", \"content\": prompt}]\n",
    "    \n",
    "    while True:\n",
    "        response = openai.ChatCompletion.create(\n",
    "            messages=messages,\n",
    "            stream=True,\n",
    "            model=\"gpt-3.5-turbo\",\n",
    "            temperature=1,\n",
    "        )\n",
    "        res=extractres(response)\n",
    "        print(f\"{res['role']} :\")\n",
    "        print(res[\"content\"])\n",
    "        sugg=input(\"...\")\n",
    "        messages += [res]+ [{\"role\": \"user\", \"content\": sugg}]\n",
    "        time.sleep(2)\n",
    "        if sugg=='exit':\n",
    "            break\n",
    "        \n",
    "    return messages\n",
    "    "
   ]
  },
  {
   "cell_type": "code",
   "execution_count": 6,
   "id": "7b827761",
   "metadata": {},
   "outputs": [
    {
     "name": "stdout",
     "output_type": "stream",
     "text": [
      "Type ' exit' to leave\n",
      "...suggest a movie name on ice-cream. \n",
      "assistant :\n",
      "\"Scoop Dreams\"\n",
      "...write a small plot\n",
      "assistant :\n",
      "\"Scoop Dreams\" is a heartwarming comedy-drama that follows the life of Emily, a young and aspiring ice cream enthusiast. Growing up in a small, close-knit community, Emily has always had a deep passion for ice cream and dreams of opening her own ice cream shop.\n",
      "\n",
      "However, her dream faces multiple obstacles. The town already has a popular and established ice cream parlor, owned by the strict and competitive Mr. Jenkins. Emily's homemade ice cream, as delicious as it is, struggles to find a place in the market.\n",
      "\n",
      "Determined not to give up, Emily decides to enter a national ice cream competition with a significant cash prize. She hopes that winning the competition will not only give her the funds to open her own shop but also gain recognition for her unique flavors.\n",
      "\n",
      "As Emily starts experimenting with various flavors and combinations, she begins to discover that ice cream-making is not just about creating delicious desserts but also about connecting with people and understanding their emotions. With the help of her quirky friends and supportive family, she learns to infuse her ice cream with love, compassion, and a touch of magic.\n",
      "\n",
      "Along the way, romantic sparks fly between Emily and Jake, a kind-hearted musician who loves her ice cream just as much as he loves her. Their blossoming relationship adds a sweet and heartfelt touch to the story.\n",
      "\n",
      "As the competition day arrives, Emily faces intense competition from talented ice cream makers across the country. With all her hopes resting on this one event, she must summon the courage to present her unique ice cream flavors and convince the judges that her \"Scoop Dreams\" are worth investing in.\n",
      "\n",
      "Through a series of humorous and heartwarming events, Emily's journey culminates in a gripping finale, where she not only impresses the judges with her innovative flavors but also wins the hearts of the entire community.\n",
      "\n",
      "In the end, \"Scoop Dreams\" becomes more than just a story about ice cream; it becomes an inspiring tale about following our dreams, overcoming obstacles, and the importance of perseverance, friendship, and love.\n",
      "...summarise the plot\n",
      "assistant :\n",
      "\"Scoop Dreams\" is a heartwarming comedy-drama about Emily, a passionate ice cream enthusiast who dreams of opening her own shop. She faces challenges from a competitive ice cream parlor owner in her town. Determined to make her mark, Emily enters a national ice cream competition, where she learns that making ice cream is about connecting with people and infusing love. With the support of her friends and family, including a budding romance with a musician named Jake, Emily creates unique flavors and competes against talented ice cream makers. In the end, Emily impresses the judges and wins the hearts of her community, proving that dreams can come true with determination, friendship, and love.\n",
      "...exit\n"
     ]
    },
    {
     "data": {
      "text/plain": [
       "[{'role': 'user', 'content': 'suggest a movie name on ice-cream. '},\n",
       " {'role': 'assistant', 'content': '\"Scoop Dreams\"'},\n",
       " {'role': 'user', 'content': 'write a small plot'},\n",
       " {'role': 'assistant',\n",
       "  'content': '\"Scoop Dreams\" is a heartwarming comedy-drama that follows the life of Emily, a young and aspiring ice cream enthusiast. Growing up in a small, close-knit community, Emily has always had a deep passion for ice cream and dreams of opening her own ice cream shop.\\n\\nHowever, her dream faces multiple obstacles. The town already has a popular and established ice cream parlor, owned by the strict and competitive Mr. Jenkins. Emily\\'s homemade ice cream, as delicious as it is, struggles to find a place in the market.\\n\\nDetermined not to give up, Emily decides to enter a national ice cream competition with a significant cash prize. She hopes that winning the competition will not only give her the funds to open her own shop but also gain recognition for her unique flavors.\\n\\nAs Emily starts experimenting with various flavors and combinations, she begins to discover that ice cream-making is not just about creating delicious desserts but also about connecting with people and understanding their emotions. With the help of her quirky friends and supportive family, she learns to infuse her ice cream with love, compassion, and a touch of magic.\\n\\nAlong the way, romantic sparks fly between Emily and Jake, a kind-hearted musician who loves her ice cream just as much as he loves her. Their blossoming relationship adds a sweet and heartfelt touch to the story.\\n\\nAs the competition day arrives, Emily faces intense competition from talented ice cream makers across the country. With all her hopes resting on this one event, she must summon the courage to present her unique ice cream flavors and convince the judges that her \"Scoop Dreams\" are worth investing in.\\n\\nThrough a series of humorous and heartwarming events, Emily\\'s journey culminates in a gripping finale, where she not only impresses the judges with her innovative flavors but also wins the hearts of the entire community.\\n\\nIn the end, \"Scoop Dreams\" becomes more than just a story about ice cream; it becomes an inspiring tale about following our dreams, overcoming obstacles, and the importance of perseverance, friendship, and love.'},\n",
       " {'role': 'user', 'content': 'summarise the plot'},\n",
       " {'role': 'assistant',\n",
       "  'content': '\"Scoop Dreams\" is a heartwarming comedy-drama about Emily, a passionate ice cream enthusiast who dreams of opening her own shop. She faces challenges from a competitive ice cream parlor owner in her town. Determined to make her mark, Emily enters a national ice cream competition, where she learns that making ice cream is about connecting with people and infusing love. With the support of her friends and family, including a budding romance with a musician named Jake, Emily creates unique flavors and competes against talented ice cream makers. In the end, Emily impresses the judges and wins the hearts of her community, proving that dreams can come true with determination, friendship, and love.'},\n",
       " {'role': 'user', 'content': 'exit'}]"
      ]
     },
     "execution_count": 6,
     "metadata": {},
     "output_type": "execute_result"
    }
   ],
   "source": [
    "startchat()"
   ]
  },
  {
   "cell_type": "code",
   "execution_count": 14,
   "id": "1e8902e5",
   "metadata": {},
   "outputs": [
    {
     "data": {
      "text/plain": [
       "'>>>>>>>>>>>>>>>>>>>>>>>>>>>>>>>>>>>>>>>>>>>>>>>>>>>>>>>>>>>>>>>>>>>>>>>>>>>>>>>>>>>>>>>>>>>>>>>>>>>>'"
      ]
     },
     "execution_count": 14,
     "metadata": {},
     "output_type": "execute_result"
    }
   ],
   "source": [
    "\">\"*100"
   ]
  },
  {
   "cell_type": "code",
   "execution_count": 32,
   "id": "64f37e41",
   "metadata": {},
   "outputs": [],
   "source": [
    "from langchain.schema import  AIMessage, HumanMessage, SystemMessage  \n",
    "from langchain.chat_models import ChatGooglePalm\n",
    "PALM_API=\"\""
   ]
  },
  {
   "cell_type": "code",
   "execution_count": 37,
   "id": "1be3de1e",
   "metadata": {},
   "outputs": [],
   "source": [
    "def extractresP(response):\n",
    "    return response.content\n",
    "\n",
    "def startchatP():\n",
    "    print(\"Type ' exit' to leave\")\n",
    "    prompt=input(\"...\")\n",
    "    messages=[SystemMessage(content='Help the user with queiries.'),HumanMessage(content=prompt)]\n",
    "    chat = ChatGooglePalm(google_api_key=PALM_API,temperature=1,stream=True)\n",
    "    while True:\n",
    "        response=chat(messages)\n",
    "        res=extractresP(response)\n",
    "        print(res)\n",
    "        sugg=input(\"...\")\n",
    "        messages += [response]+ [HumanMessage(content=sugg)]\n",
    "        time.sleep(2)\n",
    "        if sugg=='exit':\n",
    "            break\n",
    "        \n",
    "    return messages\n",
    "        \n",
    "\n"
   ]
  },
  {
   "cell_type": "code",
   "execution_count": 38,
   "id": "560ef152",
   "metadata": {},
   "outputs": [
    {
     "name": "stdout",
     "output_type": "stream",
     "text": [
      "Type ' exit' to leave\n",
      "...tell a joke\n",
      "Sure, here is a joke:\n",
      "\n",
      "A man walks into a library, approaches the librarian, and asks for books about paranoia. The librarian whispers, \"They're right behind you!\"\n",
      "...expand on the joke\n",
      "The joke is that the man is paranoid, and he thinks that everyone is out to get him. The librarian, who is also paranoid, whispers to him that \"They're right behind you!\" This makes the man even more paranoid, and he starts to look around nervously. The joke is funny because it is unexpected. The listener expects the librarian to help the man find books about paranoia, but instead she makes him more paranoid. The joke is also funny because it is relatable. Many people have experienced paranoia at some point in their lives. The joke makes the listener feel like they are not alone, and that everyone has their own problems.\n",
      "\n",
      "The joke can be expanded on in several ways. One way is to add more details to the story. For example, the listener could learn more about the man's paranoia, or the librarian's paranoia. Another way to expand on the joke is to change the ending. For example, the man could turn around and see that the librarian is actually right, and that there is someone following him. This would make the joke more suspenseful and exciting.\n",
      "\n",
      "The joke can also be used to teach a lesson. For example, the joke could be used to teach the listener about the dangers of paranoia. The joke could also be used to teach the listener about the importance of being open-minded.\n",
      "...tell another joke\n",
      "A man walks into a bar and orders a drink. As he sits there, he hears a high-pitched voice say, \"Hey, those jeans look really great on you!\"\n",
      "\n",
      "The man looks around but sees nothing. He then returns to his drink thinking nothing more of it. But then, a moment later, he hears the same voice again, \"I really like what you have done with your hair!\"\n",
      "\n",
      "The man again glances around but sees nothing. Now he wonders if should visit a doctor as he clearly seems to be hallucinating. He calmes himself down but then as he believes the voice is gone, he hears, \"You seem like an awesome person!\"\n",
      "\n",
      "He puts his drink down, completely scared and looks around wildly. Still unable to find the source of the voice, he calls over to the bartender, \"Hey! What's that voice I keep hearing?\"\n",
      "\n",
      "\"Those are the peanuts,\" the bartender replies. \"They're complimentary.\"\n",
      "...exit\n"
     ]
    },
    {
     "data": {
      "text/plain": [
       "[SystemMessage(content='Help the user with queiries.'),\n",
       " HumanMessage(content='tell a joke'),\n",
       " ChatMessage(content='Sure, here is a joke:\\r\\n\\r\\nA man walks into a library, approaches the librarian, and asks for books about paranoia. The librarian whispers, \"They\\'re right behind you!\"', role='1'),\n",
       " HumanMessage(content='expand on the joke'),\n",
       " ChatMessage(content='The joke is that the man is paranoid, and he thinks that everyone is out to get him. The librarian, who is also paranoid, whispers to him that \"They\\'re right behind you!\" This makes the man even more paranoid, and he starts to look around nervously. The joke is funny because it is unexpected. The listener expects the librarian to help the man find books about paranoia, but instead she makes him more paranoid. The joke is also funny because it is relatable. Many people have experienced paranoia at some point in their lives. The joke makes the listener feel like they are not alone, and that everyone has their own problems.\\r\\n\\r\\nThe joke can be expanded on in several ways. One way is to add more details to the story. For example, the listener could learn more about the man\\'s paranoia, or the librarian\\'s paranoia. Another way to expand on the joke is to change the ending. For example, the man could turn around and see that the librarian is actually right, and that there is someone following him. This would make the joke more suspenseful and exciting.\\r\\n\\r\\nThe joke can also be used to teach a lesson. For example, the joke could be used to teach the listener about the dangers of paranoia. The joke could also be used to teach the listener about the importance of being open-minded.', role='1'),\n",
       " HumanMessage(content='tell another joke'),\n",
       " ChatMessage(content='A man walks into a bar and orders a drink. As he sits there, he hears a high-pitched voice say, \"Hey, those jeans look really great on you!\"\\n\\nThe man looks around but sees nothing. He then returns to his drink thinking nothing more of it. But then, a moment later, he hears the same voice again, \"I really like what you have done with your hair!\"\\n\\nThe man again glances around but sees nothing. Now he wonders if should visit a doctor as he clearly seems to be hallucinating. He calmes himself down but then as he believes the voice is gone, he hears, \"You seem like an awesome person!\"\\n\\nHe puts his drink down, completely scared and looks around wildly. Still unable to find the source of the voice, he calls over to the bartender, \"Hey! What\\'s that voice I keep hearing?\"\\n\\n\"Those are the peanuts,\" the bartender replies. \"They\\'re complimentary.\"', role='1'),\n",
       " HumanMessage(content='exit')]"
      ]
     },
     "execution_count": 38,
     "metadata": {},
     "output_type": "execute_result"
    }
   ],
   "source": [
    "startchatP()"
   ]
  },
  {
   "cell_type": "code",
   "execution_count": null,
   "id": "e5b669fb",
   "metadata": {},
   "outputs": [],
   "source": []
  },
  {
   "cell_type": "code",
   "execution_count": null,
   "id": "51bf3353",
   "metadata": {},
   "outputs": [],
   "source": []
  },
  {
   "cell_type": "code",
   "execution_count": null,
   "id": "11fe9ef6",
   "metadata": {},
   "outputs": [],
   "source": []
  },
  {
   "cell_type": "code",
   "execution_count": null,
   "id": "35832094",
   "metadata": {},
   "outputs": [],
   "source": []
  }
 ],
 "metadata": {
  "kernelspec": {
   "display_name": "Python 3 (ipykernel)",
   "language": "python",
   "name": "python3"
  },
  "language_info": {
   "codemirror_mode": {
    "name": "ipython",
    "version": 3
   },
   "file_extension": ".py",
   "mimetype": "text/x-python",
   "name": "python",
   "nbconvert_exporter": "python",
   "pygments_lexer": "ipython3",
   "version": "3.10.9"
  }
 },
 "nbformat": 4,
 "nbformat_minor": 5
}
