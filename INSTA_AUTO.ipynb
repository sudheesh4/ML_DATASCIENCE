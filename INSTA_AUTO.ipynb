{
 "cells": [
  {
   "cell_type": "code",
   "execution_count": null,
   "id": "ae6837a3-0f66-47bd-beb7-73ffbdd81e48",
   "metadata": {},
   "outputs": [],
   "source": [
    "import pprint\n",
    "import google.generativeai as palm\n",
    "\n",
    "PALM_API=\"\"\n",
    "API=\"\"\n",
    "\n",
    "palm.configure(api_key=PALM_API)\n",
    "\n",
    "\n",
    "import google.generativeai as genai\n",
    "genai.configure(api_key=API)\n",
    "\n",
    "from langchain.llms import GooglePalm\n",
    "from langchain.embeddings import HuggingFaceInstructEmbeddings\n",
    "\n",
    "llm_palm=GooglePalm(google_api_key=PALM_API,temperature=0.003)\n",
    "\n",
    "def getpalmres(prompt):\n",
    "    #print(\"ther\")\n",
    "    result=llm_palm(prompt)\n",
    "    return result\n",
    "\n",
    "\n",
    "def getmodel():\n",
    "    return genai.GenerativeModel(\"gemini-pro\")\n",
    "\n",
    "\n",
    "def getvision():\n",
    "    return genai.GenerativeModel(\"gemini-pro-vision\")\n",
    "\n",
    "\n",
    "def queryimage(mdl,prompt,img):\n",
    "    response=mdl.generate_content([prompt,img])\n",
    "    response.resolve()\n",
    "    return (response.text)\n",
    "def querytext(mdl,prompt):\n",
    "    #print(prompt)\n",
    "    response=mdl.generate_content(prompt)\n",
    "    return (response.text)  \n",
    "\n",
    "model=getmodel()\n",
    "vision=getvision()"
   ]
  },
  {
   "cell_type": "code",
   "execution_count": null,
   "id": "a7a58c8f-151f-4f97-9d27-4c5c1c7d7f05",
   "metadata": {},
   "outputs": [],
   "source": [
    "import regex as re\n",
    "import time\n",
    "#import pywhatkit\n",
    "from datetime import datetime\n",
    "\n",
    "from selenium import webdriver\n",
    "\n",
    "import time\n",
    "\n",
    "from selenium import webdriver\n",
    "from selenium.webdriver.chrome.options import Options\n",
    "from selenium.webdriver.common.by import By\n",
    "from selenium.webdriver.common.keys import Keys\n",
    "from selenium.webdriver.support.ui import Select, WebDriverWait\n",
    "import os\n",
    "\n",
    "import copy\n",
    "from bs4 import BeautifulSoup\n",
    "import requests \n",
    "from PIL import Image "
   ]
  },
  {
   "cell_type": "code",
   "execution_count": null,
   "id": "89747a1a-a0db-45d3-90b5-123107b43386",
   "metadata": {},
   "outputs": [],
   "source": [
    "driver = webdriver.Chrome()\n",
    "driver.get(\"https://instagram.com\")\n",
    "\n",
    "print(\"Scan QR Code, And then Enter\")\n",
    "input()\n",
    "print(\"Logged In\")"
   ]
  },
  {
   "cell_type": "code",
   "execution_count": null,
   "id": "91a32b9e-8bf6-414d-bd88-222f7cf61d22",
   "metadata": {},
   "outputs": [],
   "source": [
    "\n",
    "name=\"Sudheesh Srivastava\"\n"
   ]
  },
  {
   "cell_type": "code",
   "execution_count": null,
   "id": "0ab4052d-2c8f-4931-9cc4-29de6450c3cd",
   "metadata": {},
   "outputs": [],
   "source": []
  },
  {
   "cell_type": "code",
   "execution_count": null,
   "id": "b53e3095-1a34-4a8c-9a5e-f088a75bb004",
   "metadata": {},
   "outputs": [],
   "source": []
  },
  {
   "cell_type": "code",
   "execution_count": null,
   "id": "2e1532e4-c7b2-4ad3-bce0-0fd8738ef628",
   "metadata": {},
   "outputs": [],
   "source": []
  },
  {
   "cell_type": "code",
   "execution_count": null,
   "id": "b338e3c5-91a4-4f38-998a-122b1e66ce8b",
   "metadata": {},
   "outputs": [],
   "source": []
  },
  {
   "cell_type": "code",
   "execution_count": null,
   "id": "84dd37a1-4287-4e1a-9e29-5170a594c6f9",
   "metadata": {},
   "outputs": [],
   "source": []
  },
  {
   "cell_type": "code",
   "execution_count": null,
   "id": "fa98e8a6-50a6-4738-8534-b7df58c125aa",
   "metadata": {},
   "outputs": [],
   "source": [
    "def getmessage(driver,name):\n",
    "    #assumes driver is the DM page of contact open\n",
    "    messages=driver.find_element(By.XPATH,f'//*[@aria-label=\"Messages in conversation with {name}\"]')\n",
    "    soup=BeautifulSoup(messages.find_elements(By.XPATH,'//*[@role=\"row\"]')[-1].get_attribute('innerHTML'))\n",
    "    txt=soup.get_text()\n",
    "    auth=''\n",
    "    #print(txt)\n",
    "    if txt.find(name)>=0:\n",
    "        txt=txt.replace(name,\"\").replace(\"Enter\",\"\")\n",
    "        #if txt.find(\"Batty:\")>=0:\n",
    "            #res=getpalmres(f\"{txt[txt.find('Batty:')+6:]}\")\n",
    "            #sendmessage(driver,res)\n",
    "        auth=name\n",
    "    else:\n",
    "        txt=txt.replace(\"You\",\"\").replace(\"sent\",\"\").replace(\"Enter\",\"\")\n",
    "        auth='You'\n",
    "    return txt,auth\n",
    "\n",
    "def sendmessage(driver,text):\n",
    "    input=driver.find_element(By.XPATH,'//*[@aria-label=\"Message\"]')\n",
    "    input.send_keys(text+Keys.RETURN)\n",
    "\n",
    "def getimage(driver,name):\n",
    "    messages=driver.find_element(By.XPATH,f'//*[@aria-label=\"Messages in conversation with {name}\"]') \n",
    "    soup=BeautifulSoup(messages.find_elements(By.XPATH,'//*[@role=\"row\"]')[-1].get_attribute('innerHTML'))\n",
    "    url=soup.find_all(\"img\",{\"alt\":\"Open photo\"})[0]['src']\n",
    "    \n",
    "    data = requests.get(url).content \n",
    "    open('img.jpg','wb').write(data)\n",
    "    img=Image.open(\"img.jpg\")\n",
    "\n",
    "    return img"
   ]
  },
  {
   "cell_type": "code",
   "execution_count": null,
   "id": "96846037-59c3-4ebf-9a8f-6e9b00f309e1",
   "metadata": {},
   "outputs": [],
   "source": [
    "getmessage(driver,name)"
   ]
  },
  {
   "cell_type": "code",
   "execution_count": null,
   "id": "4d8fefce-b749-43e3-985f-0a46661c0a61",
   "metadata": {},
   "outputs": [],
   "source": [
    "while True:\n",
    "    name=\"Sudheesh Srivastava\"\n",
    "    try:\n",
    "        txt,auth=getmessage(driver,name)\n",
    "        if auth.find(name)>=0:\n",
    "            if txt.find(\"Batty:\")>=0:\n",
    "                query=txt[txt.find('Batty:')+6:]\n",
    "                if query.find(\"<EXIT>\")>=0:\n",
    "                    break\n",
    "                else:\n",
    "                    print(f\"Getting response from PaLM2\")\n",
    "                    res=getpalmres(query)\n",
    "                    sendmessage(driver,res)\n",
    "            elif txt.find(\"Gobhi:\")>=0:\n",
    "                query=txt[txt.find('Gobhi:')+6:]\n",
    "                sendmessage(driver,\"WAITING 5 secs for IMAGE\")\n",
    "                \n",
    "                try:\n",
    "                    time.sleep(5)\n",
    "                    print('a')\n",
    "                    img=getimage(driver,name)\n",
    "                    print('b')\n",
    "                    res=queryimage(vision,query,img)\n",
    "                    print(res)\n",
    "                    sendmessage(driver,res)\n",
    "                except:\n",
    "                    print(\"ERROR IN GETTING IMAGE QUERY\")\n",
    "                    sendmessage(driver,\"ERROR IN GETTING IMAGE QUERY\")\n",
    "            else:\n",
    "                pass\n",
    "    except:\n",
    "        print(\"ERROR\")\n",
    "        pass\n",
    "    time.sleep(3)"
   ]
  },
  {
   "cell_type": "code",
   "execution_count": null,
   "id": "ed8d776e-feb1-41b0-b409-370e73200967",
   "metadata": {},
   "outputs": [],
   "source": []
  },
  {
   "cell_type": "code",
   "execution_count": null,
   "id": "306d7a8b-c741-4b20-aa65-968b03d5f4b0",
   "metadata": {},
   "outputs": [],
   "source": []
  },
  {
   "cell_type": "code",
   "execution_count": null,
   "id": "957a6a30-7b91-498b-b032-d21525b4e574",
   "metadata": {},
   "outputs": [],
   "source": []
  },
  {
   "cell_type": "code",
   "execution_count": null,
   "id": "ea2056b8-999f-4cbe-9655-ef90894e451f",
   "metadata": {},
   "outputs": [],
   "source": []
  },
  {
   "cell_type": "code",
   "execution_count": null,
   "id": "7c028b1a-f37a-4065-870a-a8a66f0d2c76",
   "metadata": {},
   "outputs": [],
   "source": []
  },
  {
   "cell_type": "code",
   "execution_count": null,
   "id": "d8dd197b-8ed2-4976-ad56-b94db4d705c1",
   "metadata": {},
   "outputs": [],
   "source": []
  }
 ],
 "metadata": {
  "kernelspec": {
   "display_name": "Python 3 (ipykernel)",
   "language": "python",
   "name": "python3"
  },
  "language_info": {
   "codemirror_mode": {
    "name": "ipython",
    "version": 3
   },
   "file_extension": ".py",
   "mimetype": "text/x-python",
   "name": "python",
   "nbconvert_exporter": "python",
   "pygments_lexer": "ipython3",
   "version": "3.11.5"
  }
 },
 "nbformat": 4,
 "nbformat_minor": 5
}
