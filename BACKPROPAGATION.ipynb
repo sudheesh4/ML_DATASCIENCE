{
 "cells": [
  {
   "cell_type": "code",
   "execution_count": null,
   "id": "af97d69e",
   "metadata": {},
   "outputs": [],
   "source": []
  },
  {
   "cell_type": "code",
   "execution_count": 64,
   "id": "a806c567",
   "metadata": {},
   "outputs": [],
   "source": [
    "#The following special forms using leading or trailing underscores are recognized (these can generally be combined with any case convention):\n",
    "\n",
    "#    _single_leading_underscore: weak \"internal use\" indicator. E.g. from M import * does not import objects whose name starts with an underscore.\n",
    "\n",
    "#    single_trailing_underscore_: used by convention to avoid conflicts with Python keyword, e.g.    Tkinter.Toplevel(master, class_='ClassName')\n",
    "\n",
    "#    __double_leading_underscore: when naming a class attribute, invokes name mangling (inside class FooBar, __boo becomes _FooBar__boo; see below).\n",
    "\n",
    "#    __double_leading_and_trailing_underscore__: \"magic\" objects or attributes that live in user-controlled namespaces. E.g. __init__, __import__ or __file__.\"\"\"\"\""
   ]
  },
  {
   "cell_type": "code",
   "execution_count": 65,
   "id": "157ab165",
   "metadata": {},
   "outputs": [],
   "source": [
    "#[1,2]+[1]=[1,2,1]    <=> [1,2].__add__([1])\n",
    "#len([1,2])  <=>  [1,2].__len__()\n",
    "#[1,2].__add__([1]),([1,2]+[1]).__len__()\n"
   ]
  },
  {
   "cell_type": "code",
   "execution_count": 213,
   "id": "1ff8c80f",
   "metadata": {},
   "outputs": [],
   "source": [
    "class mynumber:\n",
    "    def __init__(self,data,_parents=(),_op=''):\n",
    "        self.data=data\n",
    "        self.grad=0\n",
    "        \n",
    "        self._backward= lambda : None\n",
    "        self._prev=set(_parents)\n",
    "        self._op=_op#storing what operation creates this value, so we can backtrack\n",
    "    \n",
    "    def __add__(self,other):\n",
    "        other=other if isinstance(other,mynumber) else mynumber(other)\n",
    "        out=mynumber(self.data+other.data,(self,other),'+')\n",
    "        \n",
    "        def _backward():\n",
    "            self.grad += out.grad #out= a+b ==>gradient flows to both a,b with unit weight\n",
    "            other.grad += out.grad\n",
    "        out._backward=_backward\n",
    "        \n",
    "        return out\n",
    "    \n",
    "    def __mul__(self,other):\n",
    "        other = other if isinstance(other,mynumber) else mynumber(other)\n",
    "        out=mynumber(self.data*other.data,(self,other),'*')\n",
    "        \n",
    "        def _backward():\n",
    "            self.grad +=out.grad * other.data\n",
    "            other.grad += out.grad*self.data\n",
    "        out._backward=_backward\n",
    "        \n",
    "        return out\n",
    "    \n",
    "    def __pow__(self,other):\n",
    "        assert isinstance(other,(int,float))\n",
    "        out=mynumber(self.data**other,(self,),f'^{other}')\n",
    "        \n",
    "        def _backward():\n",
    "            self.grad += out.grad* other * (self.data**(other-1))\n",
    "        out._backward=_backward\n",
    "\n",
    "        return out\n",
    "        \n",
    "    \n",
    "    def __neg__(self):\n",
    "        #return self*-1 \n",
    "        return self.__mul__(-1)\n",
    "    def __sub__(self,other):\n",
    "        #return self.__add__(other.__neg__())\n",
    "        return self+(-other)\n",
    "    def __radd__(self,other):\n",
    "        return self+other\n",
    "    def __rsub__(self,other):\n",
    "        return -self + other\n",
    "    def __rmul__(self,other):\n",
    "        return self*other\n",
    "    def __truediv__(self,other):\n",
    "        return self*(other**-1)\n",
    "    def __rdiv__(self,other):\n",
    "        return other*(self**-1)\n",
    "    \n",
    "    def __repr__(self):\n",
    "        return f\"MyNumber(data={self.data}, grad={self.grad})\"\n",
    "    \n",
    "    \n",
    "    def relu(self):\n",
    "        out=mynumber(0 if self.data<0 else self.data,(self,),'ReLU')\n",
    "        def _backward():\n",
    "            self.grad += (out.data >0)*out.grad\n",
    "        out._backward=_backward\n",
    "        \n",
    "        return out\n",
    "\n",
    "    \n",
    "    def backward(self):\n",
    "        topo=[]\n",
    "        print(\"RAAGASG\")\n",
    "        visited=set()\n",
    "        def buildtopo(v):\n",
    "            if v not in  visited:\n",
    "                visited.add(v)\n",
    "                for parent in v._prev:\n",
    "                    buildtopo(parent)\n",
    "                topo.append(v)\n",
    "        buildtopo(self)\n",
    "        print(\"ASFASFASFASF\")\n",
    "        self.grad=1\n",
    "        for v in reversed(topo):\n",
    "            v._backward()"
   ]
  },
  {
   "cell_type": "code",
   "execution_count": 214,
   "id": "517336d8",
   "metadata": {},
   "outputs": [],
   "source": [
    "x=mynumber(19)\n",
    "#(x*5).data, next((p.data for p in list((x*5)._prev)))"
   ]
  },
  {
   "cell_type": "code",
   "execution_count": 215,
   "id": "b9bb6c82",
   "metadata": {},
   "outputs": [
    {
     "name": "stdout",
     "output_type": "stream",
     "text": [
      "RAAGASG\n",
      "ASFASFASFASF\n"
     ]
    }
   ],
   "source": [
    "y=5*x\n",
    "y.backward()"
   ]
  },
  {
   "cell_type": "code",
   "execution_count": 216,
   "id": "5ff3d3e1",
   "metadata": {},
   "outputs": [
    {
     "data": {
      "text/plain": [
       "(MyNumber(data=19, grad=5), MyNumber(data=95, grad=1))"
      ]
     },
     "execution_count": 216,
     "metadata": {},
     "output_type": "execute_result"
    }
   ],
   "source": [
    "x,y"
   ]
  },
  {
   "cell_type": "code",
   "execution_count": 217,
   "id": "65009d32",
   "metadata": {},
   "outputs": [],
   "source": [
    "import random\n",
    "import numpy as np"
   ]
  },
  {
   "cell_type": "code",
   "execution_count": 218,
   "id": "f468763e",
   "metadata": {},
   "outputs": [],
   "source": [
    "class Module:\n",
    "    def parameters(self):\n",
    "        return []\n",
    "    def zero_grad(self):\n",
    "        for p in self.parameters():\n",
    "            p.grad=0\n",
    "\n",
    "class neuron(Module):\n",
    "    def __init__(self,nin,nonlin=True):\n",
    "        self.w=[mynumber(random.uniform(-1,1)) for _ in range(nin)]#initilise random weights for each input for this single neuron\n",
    "        self.b=mynumber(0)#initialise bias\n",
    "        self.nonlin=nonlin\n",
    "    \n",
    "    def __call__(self,x):#n1=neuron(10); neuron takes input from 10 nodes; n1(x) <==>n1.__call__(x)\n",
    "        print(len(self.w))\n",
    "        \n",
    "        act=sum((wi*xi for wi,xi in zip(self.w,x)),self.b)#act= w*x +b\n",
    "        return act.relu() if self.nonlin else act\n",
    "    \n",
    "    def parameters(self):\n",
    "        #print('a')\n",
    "        return self.w +[self.b]\n",
    "    \n",
    "    def __repr__(self):\n",
    "        return f\"{'ReLU' if self.nonlin else 'Linear'}Neuron({len(self.w)})\"   \n",
    "\n",
    "class layer(Module):\n",
    "    def __init__(self, nin,nout,**kwargs):\n",
    "        self.neurons=[neuron(nin,**kwargs) for _ in range(nout)]#nout number of neurons in layer\n",
    "    \n",
    "    def __call__(self,x):#layer(x)==> output of neurons\n",
    "        out= [n(x) for n in self.neurons]\n",
    "        return out[0] if len(out)==1 else out\n",
    "    \n",
    "    def parameters(self):\n",
    "        return [p for n in self.neurons for p in n.parameters()]\n",
    "    def __repr__(self):\n",
    "        return f\"Layer of [{', '.join(str(n) for n in self.neurons)}]\"\n",
    "\n",
    "class Multilayernetwork(Module):\n",
    "    def __init__(self,nin,nouts):\n",
    "        sz=[nin]+nouts\n",
    "        self.layers=[layer(sz[i],sz[i+1],nonlin=i!=len(nouts)-1) for i in range(len(nouts))]\n",
    "    \n",
    "    def __call__(self,x):\n",
    "        for layers in self.layers:\n",
    "            x=layers(x)\n",
    "        return x\n",
    "    \n",
    "    def parameters(self):\n",
    "        return [p for layers in self.layers for p in layers.parameters()]\n",
    "    \n",
    "    def __repr__(self):\n",
    "        return f\"MLP of [{', '.join(str(layers) for layers in self.layers)}]\""
   ]
  },
  {
   "cell_type": "code",
   "execution_count": 221,
   "id": "ac0a133e",
   "metadata": {},
   "outputs": [
    {
     "name": "stdout",
     "output_type": "stream",
     "text": [
      "2\n"
     ]
    }
   ],
   "source": [
    "n1=neuron(2)\n",
    "x=[1,2]\n",
    "o1=n1(x)\n"
   ]
  },
  {
   "cell_type": "code",
   "execution_count": 228,
   "id": "dc5092e4",
   "metadata": {},
   "outputs": [
    {
     "name": "stdout",
     "output_type": "stream",
     "text": [
      "RAAGASG\n",
      "ASFASFASFASF\n"
     ]
    }
   ],
   "source": [
    "o1.backward()"
   ]
  },
  {
   "cell_type": "code",
   "execution_count": 220,
   "id": "1f56ba83",
   "metadata": {},
   "outputs": [],
   "source": [
    "mlp=Multilayernetwork(3,[2,2])"
   ]
  },
  {
   "cell_type": "code",
   "execution_count": 192,
   "id": "655a96dc",
   "metadata": {},
   "outputs": [],
   "source": [
    "#mlp.parameters()"
   ]
  },
  {
   "cell_type": "code",
   "execution_count": 193,
   "id": "a91f785b",
   "metadata": {},
   "outputs": [],
   "source": [
    "#for k1,k2 in zip(mlp.parameters(),[(mlp.parameters()[i]._prev) for i in range(len(mlp.parameters()))]):\n",
    "#    print(k1)\n",
    "#    print(k2)\n",
    "#    print(\">>>>>>>\")"
   ]
  },
  {
   "cell_type": "code",
   "execution_count": 231,
   "id": "ceb8d5ed",
   "metadata": {},
   "outputs": [],
   "source": [
    "m1[0].backward()"
   ]
  },
  {
   "cell_type": "code",
   "execution_count": 225,
   "id": "70203d33",
   "metadata": {},
   "outputs": [
    {
     "name": "stdout",
     "output_type": "stream",
     "text": [
      "[0, 0, 0, 0, 0, 0, 0, 0, 0, 0, 0, 0, 0, 0]\n",
      "BEFORE\n",
      "[0, 0, 0, 0, 0, 0, 0, 0, 0, 0, 0, 0, 0, 0, MyNumber(data=0.0, grad=1), MyNumber(data=0.0, grad=1)]\n"
     ]
    }
   ],
   "source": [
    "mlp.zero_grad()\n",
    "print([m.grad for m in mlp.parameters()])\n",
    "#print(len(mlp.parameters()))\n",
    "print(\"BEFORE\")\n",
    "#m1=mlp([0,0,0])\n",
    "mlp.zero_grad()\n",
    "m1[0].backward()#,m1[1].backward()\n",
    "print([m.grad for m in mlp.parameters()]+m1)\n",
    "#print(len(mlp.parameters()))\n"
   ]
  },
  {
   "cell_type": "code",
   "execution_count": 212,
   "id": "8273d5a7",
   "metadata": {},
   "outputs": [],
   "source": [
    "m1[0].backward()"
   ]
  },
  {
   "cell_type": "code",
   "execution_count": 121,
   "id": "d242bcf8",
   "metadata": {},
   "outputs": [],
   "source": [
    "#mlp.parameters(),\"asd\",list(list(m1[0]._prev)[0]._prev)[1]#m1._prev,list(list(m1._prev)[0]._prev)[1]._prev"
   ]
  },
  {
   "cell_type": "code",
   "execution_count": 50,
   "id": "8d45a6cd",
   "metadata": {},
   "outputs": [],
   "source": [
    "#|um((wi*xi for wi,xi in zip(w,x)),3)\n"
   ]
  },
  {
   "cell_type": "code",
   "execution_count": null,
   "id": "f80ca2ce",
   "metadata": {},
   "outputs": [],
   "source": []
  },
  {
   "cell_type": "code",
   "execution_count": null,
   "id": "a6724389",
   "metadata": {},
   "outputs": [],
   "source": []
  },
  {
   "cell_type": "code",
   "execution_count": null,
   "id": "a4db28c8",
   "metadata": {},
   "outputs": [],
   "source": []
  },
  {
   "cell_type": "code",
   "execution_count": null,
   "id": "21ac7713",
   "metadata": {},
   "outputs": [],
   "source": []
  }
 ],
 "metadata": {
  "kernelspec": {
   "display_name": "Python 3 (ipykernel)",
   "language": "python",
   "name": "python3"
  },
  "language_info": {
   "codemirror_mode": {
    "name": "ipython",
    "version": 3
   },
   "file_extension": ".py",
   "mimetype": "text/x-python",
   "name": "python",
   "nbconvert_exporter": "python",
   "pygments_lexer": "ipython3",
   "version": "3.10.9"
  }
 },
 "nbformat": 4,
 "nbformat_minor": 5
}
