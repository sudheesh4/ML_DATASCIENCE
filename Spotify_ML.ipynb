{
 "cells": [
  {
   "cell_type": "code",
   "execution_count": 1,
   "id": "5f3fbd00",
   "metadata": {},
   "outputs": [],
   "source": [
    "import pandas as pd\n",
    "\n",
    "from sklearn.preprocessing import StandardScaler,OneHotEncoder\n",
    "from sklearn.compose import make_column_transformer\n",
    "from sklearn.model_selection import GroupShuffleSplit\n",
    "\n",
    "from tensorflow import keras\n",
    "from tensorflow.keras import layers\n",
    "from tensorflow.keras import callbacks\n"
   ]
  },
  {
   "cell_type": "code",
   "execution_count": 33,
   "id": "83033aa3",
   "metadata": {},
   "outputs": [],
   "source": [
    "spotify = pd.read_csv('spotify.csv')"
   ]
  },
  {
   "cell_type": "code",
   "execution_count": 45,
   "id": "6d0ae78d",
   "metadata": {},
   "outputs": [],
   "source": [
    "X=spotify.copy().dropna()\n",
    "#X.head()"
   ]
  },
  {
   "cell_type": "code",
   "execution_count": 46,
   "id": "73e75456",
   "metadata": {},
   "outputs": [
    {
     "name": "stdout",
     "output_type": "stream",
     "text": [
      "Input shape: [18]\n"
     ]
    }
   ],
   "source": [
    "y = X.pop('track_popularity')\n",
    "artists = X['track_artist']\n",
    "\n",
    "features_num = ['danceability', 'energy', 'key', 'loudness', 'mode',\n",
    "                'speechiness', 'acousticness', 'instrumentalness',\n",
    "                'liveness', 'valence', 'tempo', 'duration_ms']\n",
    "features_cat = ['playlist_genre']\n",
    "\n",
    "preprocessor = make_column_transformer(\n",
    "    (StandardScaler(), features_num),\n",
    "    (OneHotEncoder(), features_cat),\n",
    ")\n",
    "\n",
    "# We'll do a \"grouped\" split to keep all of an artist's songs in one\n",
    "# split or the other. This is to help prevent signal leakage.\n",
    "def group_split(X, y, group, train_size=0.75):\n",
    "    splitter = GroupShuffleSplit(train_size=train_size)\n",
    "    train, test = next(splitter.split(X, y, groups=group))\n",
    "    return (X.iloc[train], X.iloc[test], y.iloc[train], y.iloc[test])\n",
    "\n",
    "X_train, X_valid, y_train, y_valid = group_split(X, y, artists)\n",
    "\n",
    "X_train = preprocessor.fit_transform(X_train)\n",
    "X_valid = preprocessor.transform(X_valid)\n",
    "y_train = y_train / 100 # popularity is on a scale 0-100, so this rescales to 0-1.\n",
    "y_valid = y_valid / 100\n",
    "\n",
    "input_shape = [X_train.shape[1]]\n",
    "print(\"Input shape: {}\".format(input_shape))\n"
   ]
  },
  {
   "cell_type": "code",
   "execution_count": 47,
   "id": "747828c9",
   "metadata": {},
   "outputs": [
    {
     "data": {
      "text/plain": [
       "array([[ 0.64257806,  1.19515598,  0.17420341, ...,  0.        ,\n",
       "         0.        ,  0.        ],\n",
       "       [ 0.13884592,  1.27805891, -1.20899107, ...,  0.        ,\n",
       "         0.        ,  0.        ],\n",
       "       [ 0.43556485,  1.27253205,  0.45084231, ...,  0.        ,\n",
       "         0.        ,  0.        ],\n",
       "       ...,\n",
       "       [-0.91692147,  0.47666393, -1.48562997, ...,  0.        ,\n",
       "         0.        ,  0.        ],\n",
       "       [-0.86861838,  0.6701041 ,  0.17420341, ...,  0.        ,\n",
       "         0.        ,  0.        ],\n",
       "       [-0.35798579,  1.0182964 , -0.10243548, ...,  0.        ,\n",
       "         0.        ,  0.        ]])"
      ]
     },
     "execution_count": 47,
     "metadata": {},
     "output_type": "execute_result"
    }
   ],
   "source": [
    "X_train"
   ]
  },
  {
   "cell_type": "code",
   "execution_count": 36,
   "id": "a7f70d89",
   "metadata": {},
   "outputs": [
    {
     "name": "stdout",
     "output_type": "stream",
     "text": [
      "Minimum Validation Loss: 0.2009\n"
     ]
    }
   ],
   "source": [
    "model = keras.Sequential([\n",
    "    layers.Dense(1, input_shape=input_shape),\n",
    "])\n",
    "model.compile(\n",
    "    optimizer='adam',\n",
    "    loss='mae',\n",
    ")\n",
    "history = model.fit(\n",
    "    X_train, y_train,\n",
    "    validation_data=(X_valid, y_valid),\n",
    "    batch_size=512,\n",
    "    epochs=50,\n",
    "    verbose=0, # suppress output since we'll plot the curves\n",
    ")\n",
    "history_df = pd.DataFrame(history.history)\n",
    "#history_df.loc[0:, ['loss', 'val_loss']].plot()\n",
    "print(\"Minimum Validation Loss: {:0.4f}\".format(history_df['val_loss'].min()));\n"
   ]
  },
  {
   "cell_type": "code",
   "execution_count": 37,
   "id": "c9543551",
   "metadata": {},
   "outputs": [
    {
     "name": "stdout",
     "output_type": "stream",
     "text": [
      "Minimum Validation Loss: 0.2009\n"
     ]
    }
   ],
   "source": [
    "#history_df.loc[10:, ['loss', 'val_loss']].plot()\n",
    "print(\"Minimum Validation Loss: {:0.4f}\".format(history_df['val_loss'].min()));"
   ]
  },
  {
   "cell_type": "code",
   "execution_count": 38,
   "id": "c2a79ab6",
   "metadata": {},
   "outputs": [
    {
     "name": "stdout",
     "output_type": "stream",
     "text": [
      "Epoch 1/50\n",
      "49/49 [==============================] - 1s 7ms/step - loss: 0.2336 - val_loss: 0.2124\n",
      "Epoch 2/50\n",
      "49/49 [==============================] - 0s 3ms/step - loss: 0.2016 - val_loss: 0.2067\n",
      "Epoch 3/50\n",
      "49/49 [==============================] - 0s 3ms/step - loss: 0.1957 - val_loss: 0.2053\n",
      "Epoch 4/50\n",
      "49/49 [==============================] - 0s 3ms/step - loss: 0.1932 - val_loss: 0.2029\n",
      "Epoch 5/50\n",
      "49/49 [==============================] - 0s 3ms/step - loss: 0.1910 - val_loss: 0.2041\n",
      "Epoch 6/50\n",
      "49/49 [==============================] - 0s 3ms/step - loss: 0.1889 - val_loss: 0.2021\n",
      "Epoch 7/50\n",
      "49/49 [==============================] - 0s 3ms/step - loss: 0.1881 - val_loss: 0.2018\n",
      "Epoch 8/50\n",
      "49/49 [==============================] - 0s 3ms/step - loss: 0.1869 - val_loss: 0.2024\n",
      "Epoch 9/50\n",
      "49/49 [==============================] - 0s 3ms/step - loss: 0.1855 - val_loss: 0.2010\n",
      "Epoch 10/50\n",
      "49/49 [==============================] - 0s 3ms/step - loss: 0.1848 - val_loss: 0.2024\n",
      "Epoch 11/50\n",
      "49/49 [==============================] - 0s 3ms/step - loss: 0.1846 - val_loss: 0.2023\n",
      "Epoch 12/50\n",
      "49/49 [==============================] - 0s 3ms/step - loss: 0.1845 - val_loss: 0.2021\n",
      "Epoch 13/50\n",
      "49/49 [==============================] - 0s 3ms/step - loss: 0.1824 - val_loss: 0.2018\n",
      "Epoch 14/50\n",
      "49/49 [==============================] - 0s 3ms/step - loss: 0.1819 - val_loss: 0.2009\n",
      "Epoch 15/50\n",
      "49/49 [==============================] - 0s 3ms/step - loss: 0.1811 - val_loss: 0.2054\n",
      "Epoch 16/50\n",
      "49/49 [==============================] - 0s 3ms/step - loss: 0.1815 - val_loss: 0.2020\n",
      "Epoch 17/50\n",
      "49/49 [==============================] - 0s 3ms/step - loss: 0.1808 - val_loss: 0.2038\n",
      "Epoch 18/50\n",
      "49/49 [==============================] - 0s 3ms/step - loss: 0.1801 - val_loss: 0.2024\n",
      "Epoch 19/50\n",
      "49/49 [==============================] - 0s 3ms/step - loss: 0.1792 - val_loss: 0.2016\n",
      "Epoch 20/50\n",
      "49/49 [==============================] - 0s 3ms/step - loss: 0.1787 - val_loss: 0.2021\n",
      "Epoch 21/50\n",
      "49/49 [==============================] - 0s 3ms/step - loss: 0.1784 - val_loss: 0.2019\n",
      "Epoch 22/50\n",
      "49/49 [==============================] - 0s 3ms/step - loss: 0.1779 - val_loss: 0.2024\n",
      "Epoch 23/50\n",
      "49/49 [==============================] - 0s 3ms/step - loss: 0.1782 - val_loss: 0.2022\n",
      "Epoch 24/50\n",
      "49/49 [==============================] - 0s 3ms/step - loss: 0.1775 - val_loss: 0.2024\n",
      "Epoch 25/50\n",
      "49/49 [==============================] - 0s 3ms/step - loss: 0.1766 - val_loss: 0.2031\n",
      "Epoch 26/50\n",
      "49/49 [==============================] - 0s 3ms/step - loss: 0.1762 - val_loss: 0.2032\n",
      "Epoch 27/50\n",
      "49/49 [==============================] - 0s 3ms/step - loss: 0.1761 - val_loss: 0.2017\n",
      "Epoch 28/50\n",
      "49/49 [==============================] - 0s 3ms/step - loss: 0.1748 - val_loss: 0.2041\n",
      "Epoch 29/50\n",
      "49/49 [==============================] - 0s 3ms/step - loss: 0.1747 - val_loss: 0.2030\n",
      "Epoch 30/50\n",
      "49/49 [==============================] - 0s 3ms/step - loss: 0.1748 - val_loss: 0.2050\n",
      "Epoch 31/50\n",
      "49/49 [==============================] - 0s 3ms/step - loss: 0.1741 - val_loss: 0.2036\n",
      "Epoch 32/50\n",
      "49/49 [==============================] - 0s 3ms/step - loss: 0.1740 - val_loss: 0.2033\n",
      "Epoch 33/50\n",
      "49/49 [==============================] - 0s 3ms/step - loss: 0.1730 - val_loss: 0.2031\n",
      "Epoch 34/50\n",
      "49/49 [==============================] - 0s 3ms/step - loss: 0.1719 - val_loss: 0.2031\n",
      "Epoch 35/50\n",
      "49/49 [==============================] - 0s 3ms/step - loss: 0.1722 - val_loss: 0.2035\n",
      "Epoch 36/50\n",
      "49/49 [==============================] - 0s 3ms/step - loss: 0.1715 - val_loss: 0.2053\n",
      "Epoch 37/50\n",
      "49/49 [==============================] - 0s 3ms/step - loss: 0.1714 - val_loss: 0.2056\n",
      "Epoch 38/50\n",
      "49/49 [==============================] - 0s 3ms/step - loss: 0.1713 - val_loss: 0.2043\n",
      "Epoch 39/50\n",
      "49/49 [==============================] - 0s 3ms/step - loss: 0.1714 - val_loss: 0.2040\n",
      "Epoch 40/50\n",
      "49/49 [==============================] - 0s 3ms/step - loss: 0.1704 - val_loss: 0.2058\n",
      "Epoch 41/50\n",
      "49/49 [==============================] - 0s 3ms/step - loss: 0.1694 - val_loss: 0.2054\n",
      "Epoch 42/50\n",
      "49/49 [==============================] - 0s 4ms/step - loss: 0.1698 - val_loss: 0.2048\n",
      "Epoch 43/50\n",
      "49/49 [==============================] - 0s 3ms/step - loss: 0.1704 - val_loss: 0.2053\n",
      "Epoch 44/50\n",
      "49/49 [==============================] - 0s 3ms/step - loss: 0.1689 - val_loss: 0.2071\n",
      "Epoch 45/50\n",
      "49/49 [==============================] - 0s 3ms/step - loss: 0.1689 - val_loss: 0.2058\n",
      "Epoch 46/50\n",
      "49/49 [==============================] - 0s 3ms/step - loss: 0.1687 - val_loss: 0.2055\n",
      "Epoch 47/50\n",
      "49/49 [==============================] - 0s 3ms/step - loss: 0.1681 - val_loss: 0.2038\n",
      "Epoch 48/50\n",
      "49/49 [==============================] - 0s 3ms/step - loss: 0.1669 - val_loss: 0.2068\n",
      "Epoch 49/50\n",
      "49/49 [==============================] - 0s 3ms/step - loss: 0.1670 - val_loss: 0.2058\n",
      "Epoch 50/50\n",
      "49/49 [==============================] - 0s 3ms/step - loss: 0.1668 - val_loss: 0.2075\n",
      "Minimum Validation Loss: 0.2009\n"
     ]
    }
   ],
   "source": [
    "model = keras.Sequential([\n",
    "    layers.Dense(128, activation='relu', input_shape=input_shape),\n",
    "    layers.Dense(64, activation='relu'),\n",
    "    layers.Dense(1)\n",
    "])\n",
    "model.compile(\n",
    "    optimizer='adam',\n",
    "    loss='mae',\n",
    ")\n",
    "history = model.fit(\n",
    "    X_train, y_train,\n",
    "    validation_data=(X_valid, y_valid),\n",
    "    batch_size=512,\n",
    "    epochs=50,\n",
    ")\n",
    "history_df = pd.DataFrame(history.history)\n",
    "#history_df.loc[:, ['loss', 'val_loss']].plot()\n",
    "print(\"Minimum Validation Loss: {:0.4f}\".format(history_df['val_loss'].min()));"
   ]
  },
  {
   "cell_type": "code",
   "execution_count": 39,
   "id": "32e7c997",
   "metadata": {},
   "outputs": [],
   "source": [
    "early_stopping = callbacks.EarlyStopping(\n",
    "    min_delta=0.001, # minimium amount of change to count as an improvement\n",
    "    patience=5, # how many epochs to wait before stopping\n",
    "    restore_best_weights=True,\n",
    ")\n",
    "\n",
    "model = keras.Sequential([\n",
    "    layers.Dense(512, activation='relu', input_shape=[11]),\n",
    "    layers.Dense(512, activation='relu'),\n",
    "    layers.Dense(512, activation='relu'),\n",
    "    layers.Dense(1),\n",
    "])\n",
    "model.compile(\n",
    "    optimizer='adam',\n",
    "    loss='mae',\n",
    ")"
   ]
  },
  {
   "cell_type": "code",
   "execution_count": 40,
   "id": "3f117b15",
   "metadata": {},
   "outputs": [
    {
     "name": "stdout",
     "output_type": "stream",
     "text": [
      "Epoch 1/50\n",
      "49/49 [==============================] - 1s 7ms/step - loss: 0.2474 - val_loss: 0.2143\n",
      "Epoch 2/50\n",
      "49/49 [==============================] - 0s 3ms/step - loss: 0.2030 - val_loss: 0.2063\n",
      "Epoch 3/50\n",
      "49/49 [==============================] - 0s 3ms/step - loss: 0.1965 - val_loss: 0.2031\n",
      "Epoch 4/50\n",
      "49/49 [==============================] - 0s 4ms/step - loss: 0.1932 - val_loss: 0.2043\n",
      "Epoch 5/50\n",
      "49/49 [==============================] - 0s 3ms/step - loss: 0.1919 - val_loss: 0.2017\n",
      "Epoch 6/50\n",
      "49/49 [==============================] - 0s 3ms/step - loss: 0.1896 - val_loss: 0.2015\n",
      "Epoch 7/50\n",
      "49/49 [==============================] - 0s 3ms/step - loss: 0.1882 - val_loss: 0.2006\n",
      "Epoch 8/50\n",
      "49/49 [==============================] - 0s 4ms/step - loss: 0.1868 - val_loss: 0.2000\n",
      "Epoch 9/50\n",
      "49/49 [==============================] - 0s 4ms/step - loss: 0.1861 - val_loss: 0.2004\n",
      "Epoch 10/50\n",
      "49/49 [==============================] - 0s 3ms/step - loss: 0.1850 - val_loss: 0.2010\n",
      "Epoch 11/50\n",
      "49/49 [==============================] - 0s 3ms/step - loss: 0.1844 - val_loss: 0.2016\n",
      "Epoch 12/50\n",
      "49/49 [==============================] - 0s 4ms/step - loss: 0.1845 - val_loss: 0.2003\n",
      "Minimum Validation Loss: 0.2000\n"
     ]
    }
   ],
   "source": [
    "model = keras.Sequential([\n",
    "    layers.Dense(128, activation='relu', input_shape=input_shape),\n",
    "    layers.Dense(64, activation='relu'),    \n",
    "    layers.Dense(1)\n",
    "])\n",
    "model.compile(\n",
    "    optimizer='adam',\n",
    "    loss='mae',\n",
    ")\n",
    "history = model.fit(\n",
    "    X_train, y_train,\n",
    "    validation_data=(X_valid, y_valid),\n",
    "    batch_size=512,\n",
    "    epochs=50,\n",
    "    callbacks=[early_stopping]\n",
    ")\n",
    "history_df = pd.DataFrame(history.history)\n",
    "#history_df.loc[:, ['loss', 'val_loss']].plot()\n",
    "print(\"Minimum Validation Loss: {:0.4f}\".format(history_df['val_loss'].min()));"
   ]
  },
  {
   "cell_type": "code",
   "execution_count": null,
   "id": "e0d9412c",
   "metadata": {},
   "outputs": [],
   "source": []
  }
 ],
 "metadata": {
  "kernelspec": {
   "display_name": "Python 3 (ipykernel)",
   "language": "python",
   "name": "python3"
  },
  "language_info": {
   "codemirror_mode": {
    "name": "ipython",
    "version": 3
   },
   "file_extension": ".py",
   "mimetype": "text/x-python",
   "name": "python",
   "nbconvert_exporter": "python",
   "pygments_lexer": "ipython3",
   "version": "3.10.9"
  }
 },
 "nbformat": 4,
 "nbformat_minor": 5
}
